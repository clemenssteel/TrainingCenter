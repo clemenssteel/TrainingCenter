{
 "cells": [
  {
   "cell_type": "markdown",
   "metadata": {},
   "source": [
    "'''\n",
    "Main file to drive Run class for data analysis of tcx files in Garmin data format. \n",
    "Target are data sets collected from Google drive.\n",
    "Further classes will be introduced to handle visualisation and analysis\n",
    "\n",
    "author: Clemens Steel\n",
    "\n",
    "'''"
   ]
  },
  {
   "cell_type": "code",
   "execution_count": 1,
   "metadata": {},
   "outputs": [],
   "source": [
    "from Run import *\n",
    "from ghettotcx import HeartRate, LatLong, TCX"
   ]
  },
  {
   "cell_type": "code",
   "execution_count": 2,
   "metadata": {},
   "outputs": [
    {
     "name": "stdout",
     "output_type": "stream",
     "text": [
      "StartTime 2018-02-10T09:03:55.000Z\n",
      "Running\n",
      "Total Time 5482.672\n",
      "Calories 1310.0\n",
      "Stored AverageHeartRate 144.32717967464814\n",
      "Stored MaximumHeartRate 178.0\n"
     ]
    },
    {
     "data": {
      "text/plain": [
       "<Run.Run at 0x24356781128>"
      ]
     },
     "execution_count": 2,
     "metadata": {},
     "output_type": "execute_result"
    }
   ],
   "source": [
    "# Parse an first file\n",
    "FirstRun = Run('./example_data','example.tcx')\n",
    "FirstRun"
   ]
  },
  {
   "cell_type": "code",
   "execution_count": null,
   "metadata": {},
   "outputs": [],
   "source": []
  }
 ],
 "metadata": {
  "kernelspec": {
   "display_name": "Python 3",
   "language": "python",
   "name": "python3"
  },
  "language_info": {
   "codemirror_mode": {
    "name": "ipython",
    "version": 3
   },
   "file_extension": ".py",
   "mimetype": "text/x-python",
   "name": "python",
   "nbconvert_exporter": "python",
   "pygments_lexer": "ipython3",
   "version": "3.6.4"
  }
 },
 "nbformat": 4,
 "nbformat_minor": 2
}
