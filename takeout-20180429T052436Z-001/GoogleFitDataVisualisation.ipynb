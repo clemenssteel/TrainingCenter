{
 "cells": [
  {
   "cell_type": "markdown",
   "metadata": {},
   "source": [
    "TCX Example\n",
    "This example shows how easy it is to get heart rate zone info from downloaded TCX files from MapMyRide, Garmin and other \n",
    "fitness apps that support the TCX file format (actually Garmin's Fitness Database format)."
   ]
  },
  {
   "cell_type": "code",
   "execution_count": null,
   "metadata": {},
   "outputs": [],
   "source": [
    "from ghettotcx import HeartRate, LatLong, TCX"
   ]
  },
  {
   "cell_type": "code",
   "execution_count": null,
   "metadata": {},
   "outputs": [],
   "source": [
    "h = HeartRate(\"./example_data/example.tcx\")\n",
    "h.plot_heartrate()  # time series of heart rate readings\n",
    "h.plot_heartrate_histogram() \n",
    "h.plot_heartratezone()  # heart rate zones are hard-coded. TODO: make user-defineable"
   ]
  },
  {
   "cell_type": "markdown",
   "metadata": {},
   "source": [
    "Loading ./example_data/example.tcx ...\n",
    "<Container object of 3 artists>\n",
    "Can also plot a panel of plots given a directory with many TCX files in it. The create_heartrate_panel method will \n",
    "load in a list of HeartRate objects. You can use the load_directory to quickly load these for you from a given directory. \n",
    "Make sure to specify HeartRate as the class_factory."
   ]
  },
  {
   "cell_type": "markdown",
   "metadata": {},
   "source": [
    "HeartRate.create_heartrate_panel(TCX.load_directory(\"./example_data\", class_factory=HeartRate), fig_size=(6,2))"
   ]
  },
  {
   "cell_type": "markdown",
   "metadata": {},
   "source": [
    "Loading ./example_data\\example.tcx ...\n",
    "\n",
    "(Note: the examples_data directory only contains a single TCX file, so only one set of plots will be drawn).\n",
    "\n",
    "Lat/Long plotting\n",
    "The library offers very basic plotting of lat/long data. The example data file includes a cycling workout down \n",
    "Manhattan's Hudson River Greenway bike trail, then cutting east on a city side street, as can be seen in the graph below. \n",
    "MapMyRide offers nice google maps mashup, so this library doesn't really focus on mapping much. However, it could possibly \n",
    "make more interesting maps if we colored the data points according to heart rate zone, etc."
   ]
  },
  {
   "cell_type": "markdown",
   "metadata": {},
   "source": [
    "l = LatLong(\"./example_data/example.tcx\")\n",
    "l.plot()\n",
    "Loading ./example_data/example.tcx ..."
   ]
  }
 ],
 "metadata": {
  "kernelspec": {
   "display_name": "Python 3",
   "language": "python",
   "name": "python3"
  },
  "language_info": {
   "codemirror_mode": {
    "name": "ipython",
    "version": 3
   },
   "file_extension": ".py",
   "mimetype": "text/x-python",
   "name": "python",
   "nbconvert_exporter": "python",
   "pygments_lexer": "ipython3",
   "version": "3.6.4"
  }
 },
 "nbformat": 4,
 "nbformat_minor": 2
}
