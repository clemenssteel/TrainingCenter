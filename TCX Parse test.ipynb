{
 "cells": [
  {
   "cell_type": "code",
   "execution_count": 1,
   "metadata": {},
   "outputs": [],
   "source": [
    "import os\n",
    "from xml.etree.ElementTree import iterparse\n",
    "import xml.etree.ElementTree as etree\n",
    "import pandas as pd\n",
    "import numpy as np\n",
    "import matplotlib.pyplot as plt\n",
    "from ghettotcx import TCX\n",
    "from decimal import *"
   ]
  },
  {
   "cell_type": "code",
   "execution_count": 2,
   "metadata": {},
   "outputs": [],
   "source": [
    "filedirectory = './example_data'\n",
    "filename = 'example.tcx'\n",
    "filepath = os.path.join(filedirectory, filename)\n",
    "filename4 = 'example4.tcx'\n",
    "filepath4 = os.path.join(filedirectory, filename4)"
   ]
  },
  {
   "cell_type": "code",
   "execution_count": 3,
   "metadata": {},
   "outputs": [],
   "source": [
    "       relevant_tags = ['{http://www.garmin.com/xmlschemas/TrainingCenterDatabase/v2}Trackpoint',\n",
    "                         '{http://www.garmin.com/xmlschemas/TrainingCenterDatabase/v2}Time',\n",
    "                         '{http://www.garmin.com/xmlschemas/TrainingCenterDatabase/v2}HeartRateBpm',\n",
    "                         '{http://www.garmin.com/xmlschemas/TrainingCenterDatabase/v2}Value',\n",
    "                         '{http://www.garmin.com/xmlschemas/TrainingCenterDatabase/v2}Activity Sport',\n",
    "                         '{http://www.garmin.com/xmlschemas/TrainingCenterDatabase/v2}DistanceMeters',\n",
    "                         '{http://www.garmin.com/xmlschemas/TrainingCenterDatabase/v2}AltitudeMeters',\n",
    "                         '{http://www.garmin.com/xmlschemas/TrainingCenterDatabase/v2}AverageHeartRateBpm',\n",
    "                         '{http://www.garmin.com/xmlschemas/TrainingCenterDatabase/v2}MaximumHeartRateBpm',\n",
    "                         '{http://www.garmin.com/xmlschemas/TrainingCenterDatabase/v2}Notes',\n",
    "                         '{http://www.garmin.com/xmlschemas/TrainingCenterDatabase/v2}TotalTimeSeconds',\n",
    "                         '{http://www.garmin.com/xmlschemas/TrainingCenterDatabase/v2}Calories',\n",
    "                         '{http://www.garmin.com/xmlschemas/TrainingCenterDatabase/v2}AltitudeMeters',\n",
    "                         '{http://www.garmin.com/xmlschemas/TrainingCenterDatabase/v2}LatitudeDegrees',\n",
    "                         '{http://www.garmin.com/xmlschemas/TrainingCenterDatabase/v2}LongitudeDegrees'\n",
    "                                \n",
    "                        ]"
   ]
  },
  {
   "cell_type": "code",
   "execution_count": 4,
   "metadata": {},
   "outputs": [],
   "source": [
    "        group_name = ''\n",
    "        counter = 0\n",
    "        items = iterparse(filepath, events=['start'])\n",
    "        timevalue = \"\"\n",
    "        heartrate = \"\"\n",
    "        activity = \"\"\n",
    "        values = []"
   ]
  },
  {
   "cell_type": "code",
   "execution_count": 5,
   "metadata": {},
   "outputs": [
    {
     "name": "stdout",
     "output_type": "stream",
     "text": [
      "MaximumHeartRateBpm\n",
      "108.0\n"
     ]
    }
   ],
   "source": [
    "items = iterparse(filepath4, events=['start'])\n",
    "print('MaximumHeartRateBpm')\n",
    "for (event, node) in items:\n",
    "            if node.tag == '{http://www.garmin.com/xmlschemas/TrainingCenterDatabase/v2}MaximumHeartRateBpm':\n",
    "                (event, node) = next(items)\n",
    "                if node.tag.strip() == '{http://www.garmin.com/xmlschemas/TrainingCenterDatabase/v2}Value':\n",
    "                    MaximumHeartrate = node.text.strip() if node.text else np.nan \n",
    "                print(MaximumHeartrate)\n",
    "                val = (MaximumHeartrate)\n",
    "                values.append(val)\n",
    "            else:\n",
    "                pass                \n",
    "#return values"
   ]
  },
  {
   "cell_type": "code",
   "execution_count": 6,
   "metadata": {},
   "outputs": [
    {
     "data": {
      "text/plain": [
       "['108.0']"
      ]
     },
     "execution_count": 6,
     "metadata": {},
     "output_type": "execute_result"
    }
   ],
   "source": [
    "values"
   ]
  },
  {
   "cell_type": "code",
   "execution_count": 7,
   "metadata": {},
   "outputs": [
    {
     "name": "stdout",
     "output_type": "stream",
     "text": [
      "Activity Type\n",
      "Running\n"
     ]
    }
   ],
   "source": [
    "items = iterparse(filepath, events=['start'])\n",
    "print('Activity Type')\n",
    "Notes = \"\"\n",
    "for (event, node) in items:\n",
    "            if node.tag.strip() == '{http://www.garmin.com/xmlschemas/TrainingCenterDatabase/v2}Notes':\n",
    "                Notes = node.text.strip() if node.text else np.nan \n",
    "                print(Notes)\n",
    "            else:\n",
    "                pass                \n",
    "#return values"
   ]
  },
  {
   "cell_type": "code",
   "execution_count": 8,
   "metadata": {},
   "outputs": [
    {
     "name": "stdout",
     "output_type": "stream",
     "text": [
      "Running.jogging\n",
      "Total Time 4268.786\n",
      "Calories 817.7022094726562\n",
      "Stored AverageHeartRate 106.44444444444444\n",
      "Stored MaximumHeartRate 108.0\n",
      "DistanceMeters 8355.76090335846\n"
     ]
    },
    {
     "data": {
      "text/plain": [
       "[('2018-02-12T09:01:49.000Z',\n",
       "  '108.0',\n",
       "  '1.0',\n",
       "  '51.24755096435547',\n",
       "  '6.8173604011535645'),\n",
       " ('2018-02-12T09:01:50.000Z',\n",
       "  '108.0',\n",
       "  '1.0',\n",
       "  '51.24755096435547',\n",
       "  '6.8173604011535645'),\n",
       " ('2018-02-12T09:01:51.000Z',\n",
       "  '106.0',\n",
       "  '1.0',\n",
       "  '51.24755096435547',\n",
       "  '6.8173604011535645'),\n",
       " ('2018-02-12T09:01:52.000Z',\n",
       "  '105.0',\n",
       "  '1.0',\n",
       "  '51.24755096435547',\n",
       "  '6.8173604011535645'),\n",
       " ('2018-02-12T09:01:53.000Z',\n",
       "  '105.0',\n",
       "  '1.0',\n",
       "  '51.24755096435547',\n",
       "  '6.8173604011535645'),\n",
       " ('2018-02-12T09:01:54.000Z',\n",
       "  '105.0',\n",
       "  '1.0',\n",
       "  '51.24755096435547',\n",
       "  '6.8173604011535645'),\n",
       " ('2018-02-12T09:01:55.000Z',\n",
       "  '106.0',\n",
       "  '1.0',\n",
       "  '51.24755096435547',\n",
       "  '6.8173604011535645'),\n",
       " ('2018-02-12T09:01:56.000Z',\n",
       "  '108.0',\n",
       "  '1.0',\n",
       "  '51.24755096435547',\n",
       "  '6.8173604011535645'),\n",
       " ('2018-02-12T09:01:57.000Z',\n",
       "  '107.0',\n",
       "  '1.0',\n",
       "  '51.24755096435547',\n",
       "  '6.8173604011535645')]"
      ]
     },
     "execution_count": 8,
     "metadata": {},
     "output_type": "execute_result"
    }
   ],
   "source": [
    "items = iterparse(filepath4, events=['start'])\n",
    "Timevalue = \"\"\n",
    "Heartrate = \"\"\n",
    "MaximumHeartRate = \"\"\n",
    "AverageHeartRate = \"\"\n",
    "Activity = \"\"\n",
    "TotalTime = \"\"\n",
    "Calories = \"\"\n",
    "DistanceMeters = \"\"\n",
    "AltitudeMeters = \"\"\n",
    "LatitudeDegrees = \"\"\n",
    "LongitudeDegrees = \"\"\n",
    "Values = []\n",
    "for (event, node) in items:\n",
    "            counter += 1\n",
    "            if node.tag not in relevant_tags:\n",
    "                # Ignore anything not part of the outline\n",
    "                continue\n",
    "            # Output a heartrate entry\n",
    "            if node.tag:\n",
    "                if node.tag.strip() == '{http://www.garmin.com/xmlschemas/TrainingCenterDatabase/v2}Notes':\n",
    "                    Activity = node.text.strip() if node.text else np.nan \n",
    "                    print(Activity)\n",
    "                elif node.tag.strip() == '{http://www.garmin.com/xmlschemas/TrainingCenterDatabase/v2}TotalTimeSeconds':\n",
    "                    TotalTime = node.text.strip() if node.text else np.nan \n",
    "                    print(\"Total Time \"+TotalTime)\n",
    "                elif node.tag.strip() == '{http://www.garmin.com/xmlschemas/TrainingCenterDatabase/v2}Calories':\n",
    "                    Calories = node.text.strip() if node.text else np.nan \n",
    "                    print(\"Calories \"+Calories)\n",
    "                elif node.tag.strip() == '{http://www.garmin.com/xmlschemas/TrainingCenterDatabase/v2}DistanceMeters':\n",
    "                    DistanceMeters = node.text.strip() if node.text else np.nan \n",
    "                elif node.tag.strip() == '{http://www.garmin.com/xmlschemas/TrainingCenterDatabase/v2}LatitudeDegrees':\n",
    "                    LatitudeDegrees = node.text.strip() if node.text else np.nan\n",
    "                elif node.tag.strip() == '{http://www.garmin.com/xmlschemas/TrainingCenterDatabase/v2}LongitudeDegrees':\n",
    "                    LongitudeDegrees = node.text.strip() if node.text else np.nan \n",
    "                elif node.tag.strip() == '{http://www.garmin.com/xmlschemas/TrainingCenterDatabase/v2}Time':\n",
    "                    Timevalue = node.text.strip() if node.text else np.nan\n",
    "                elif node.tag.strip() == '{http://www.garmin.com/xmlschemas/TrainingCenterDatabase/v2}AltitudeMeters':\n",
    "                    AltitudeMeters = node.text.strip() if node.text else np.nan  \n",
    "                elif node.tag.strip() == '{http://www.garmin.com/xmlschemas/TrainingCenterDatabase/v2}HeartRateBpm':\n",
    "                    # grab next value\n",
    "                    (event, node) = next(items)\n",
    "                    if node.tag.strip() == '{http://www.garmin.com/xmlschemas/TrainingCenterDatabase/v2}Value':\n",
    "                        Heartrate = node.text.strip() if node.text else np.nan\n",
    "                    val = (Timevalue, Heartrate, AltitudeMeters, LatitudeDegrees, LongitudeDegrees)\n",
    "                    Values.append(val)\n",
    "                elif node.tag == '{http://www.garmin.com/xmlschemas/TrainingCenterDatabase/v2}MaximumHeartRateBpm':\n",
    "                    (event, node) = next(items)\n",
    "                    if node.tag.strip() == '{http://www.garmin.com/xmlschemas/TrainingCenterDatabase/v2}Value':\n",
    "                        MaximumHeartRate = node.text.strip() if node.text else np.nan \n",
    "                        print(\"Stored MaximumHeartRate \"+MaximumHeartRate)\n",
    "                elif node.tag == '{http://www.garmin.com/xmlschemas/TrainingCenterDatabase/v2}AverageHeartRateBpm':\n",
    "                    (event, node) = next(items)\n",
    "                    if node.tag.strip() == '{http://www.garmin.com/xmlschemas/TrainingCenterDatabase/v2}Value':\n",
    "                        AverageHeartRate = node.text.strip() if node.text else np.nan \n",
    "                        print(\"Stored AverageHeartRate \"+AverageHeartRate)        \n",
    "                else:\n",
    "                    pass\n",
    "        #return values\n",
    "print(\"DistanceMeters \"+DistanceMeters)         \n",
    "Values"
   ]
  },
  {
   "cell_type": "code",
   "execution_count": null,
   "metadata": {},
   "outputs": [],
   "source": []
  },
  {
   "cell_type": "code",
   "execution_count": null,
   "metadata": {},
   "outputs": [],
   "source": []
  }
 ],
 "metadata": {
  "kernelspec": {
   "display_name": "Python 3",
   "language": "python",
   "name": "python3"
  },
  "language_info": {
   "codemirror_mode": {
    "name": "ipython",
    "version": 3
   },
   "file_extension": ".py",
   "mimetype": "text/x-python",
   "name": "python",
   "nbconvert_exporter": "python",
   "pygments_lexer": "ipython3",
   "version": "3.6.6"
  }
 },
 "nbformat": 4,
 "nbformat_minor": 2
}
