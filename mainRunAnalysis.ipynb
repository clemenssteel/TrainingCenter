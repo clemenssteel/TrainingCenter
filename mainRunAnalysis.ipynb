{
 "cells": [
  {
   "cell_type": "markdown",
   "metadata": {},
   "source": [
    "'''\n",
    "Main file to drive Run class for data analysis of tcx files in Garmin data format. \n",
    "Target are data sets collected from Google drive.\n",
    "Further classes will be introduced to handle visualisation and analysis\n",
    "\n",
    "author: Clemens Steel\n",
    "\n",
    "'''"
   ]
  },
  {
   "cell_type": "code",
   "execution_count": 1,
   "metadata": {},
   "outputs": [],
   "source": [
    "from Run import *\n",
    "from ghettotcx import HeartRate, LatLong, TCX"
   ]
  },
  {
   "cell_type": "code",
   "execution_count": 2,
   "metadata": {},
   "outputs": [
    {
     "data": {
      "text/plain": [
       "<Run.Run at 0x1b843e919b0>"
      ]
     },
     "execution_count": 2,
     "metadata": {},
     "output_type": "execute_result"
    }
   ],
   "source": [
    "# Parse an first file\n",
    "first_run = Run('./example_data','example.tcx')\n",
    "first_run"
   ]
  },
  {
   "cell_type": "code",
   "execution_count": 3,
   "metadata": {},
   "outputs": [
    {
     "name": "stdout",
     "output_type": "stream",
     "text": [
      "Loading ./example_data\\example.tcx ...\n",
      "Loading ./example_data\\example2.tcx ...\n",
      "Loading ./example_data\\example3.tcx ...\n",
      "Loading ./example_data\\example4.tcx ...\n",
      "[<ghettotcx.tcx.HeartRate object at 0x000001B8449FABA8>, <ghettotcx.tcx.HeartRate object at 0x000001B83FBF6438>, <ghettotcx.tcx.HeartRate object at 0x000001B83FBE9198>, <ghettotcx.tcx.HeartRate object at 0x000001B84121A470>]\n",
      "\n",
      "That is run_files: [<ghettotcx.tcx.HeartRate object at 0x000001B8449FABA8>, <ghettotcx.tcx.HeartRate object at 0x000001B83FBF6438>, <ghettotcx.tcx.HeartRate object at 0x000001B83FBE9198>, <ghettotcx.tcx.HeartRate object at 0x000001B84121A470>]\n",
      "\n",
      " <ghettotcx.tcx.HeartRate object at 0x000001B83FBF6438>\n",
      "\n",
      "That is run_collection: [<ghettotcx.tcx.HeartRate object at 0x000001B8449FABA8>, <ghettotcx.tcx.HeartRate object at 0x000001B83FBF6438>, <ghettotcx.tcx.HeartRate object at 0x000001B83FBE9198>, <ghettotcx.tcx.HeartRate object at 0x000001B84121A470>]\n"
     ]
    }
   ],
   "source": [
    "run_files = TCX.load_directory(\"./example_data\", class_factory=HeartRate)\n",
    "print(run_files)\n",
    "print(\"\\nThat is run_files: \"+str(run_files))\n",
    "print(\"\\n \"+str(run_files[1]))\n",
    "counter = 0\n",
    "run_collection=[]\n",
    "for run_file in run_files:\n",
    "    run_collection.append(run_file)\n",
    "    counter += 1\n",
    "print(\"\\nThat is run_collection: \"+str(run_collection))"
   ]
  },
  {
   "cell_type": "code",
   "execution_count": 4,
   "metadata": {},
   "outputs": [
    {
     "name": "stdout",
     "output_type": "stream",
     "text": [
      "===========================================\n",
      "<Run.Run object at 0x000001B8453527B8>\n",
      "===========================================\n",
      "<Run.Run object at 0x000001B844B06F28>\n",
      "===========================================\n",
      "<Run.Run object at 0x000001B8456D3F60>\n",
      "===========================================\n",
      "<Run.Run object at 0x000001B84542FF28>\n"
     ]
    }
   ],
   "source": [
    "import os # to read data from folders\n",
    "\n",
    "folder = './example_data/'\n",
    "for file in os.listdir(folder):\n",
    "    tmp = Run(folder, file)\n",
    "    print('===========================================')\n",
    "    print(tmp)"
   ]
  },
  {
   "cell_type": "code",
   "execution_count": null,
   "metadata": {},
   "outputs": [],
   "source": []
  }
 ],
 "metadata": {
  "kernelspec": {
   "display_name": "Python 3",
   "language": "python",
   "name": "python3"
  },
  "language_info": {
   "codemirror_mode": {
    "name": "ipython",
    "version": 3
   },
   "file_extension": ".py",
   "mimetype": "text/x-python",
   "name": "python",
   "nbconvert_exporter": "python",
   "pygments_lexer": "ipython3",
   "version": "3.6.6"
  }
 },
 "nbformat": 4,
 "nbformat_minor": 2
}
